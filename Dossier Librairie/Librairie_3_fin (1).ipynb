{
  "nbformat": 4,
  "nbformat_minor": 0,
  "metadata": {
    "colab": {
      "provenance": []
    },
    "kernelspec": {
      "name": "python3",
      "display_name": "Python 3"
    },
    "language_info": {
      "name": "python"
    }
  },
  "cells": [
    {
      "cell_type": "code",
      "execution_count": 2,
      "metadata": {
        "colab": {
          "base_uri": "https://localhost:8080/"
        },
        "id": "3qkIJVBk6ZCO",
        "outputId": "6536acc2-f2e3-479d-d884-eea6bc7dc792"
      },
      "outputs": [
        {
          "output_type": "stream",
          "name": "stdout",
          "text": [
            "Mounted at /content/gdrive\n"
          ]
        }
      ],
      "source": [
        "from google.colab import drive\n",
        "drive.mount('/content/gdrive')"
      ]
    },
    {
      "cell_type": "code",
      "source": [
        "%cd 'gdrive/MyDrive/Colab Notebooks/Librairiee_5/'"
      ],
      "metadata": {
        "colab": {
          "base_uri": "https://localhost:8080/"
        },
        "id": "tMfeTtmV8l-M",
        "outputId": "eeabfea7-240c-4d9c-b620-be42d92316f4"
      },
      "execution_count": 3,
      "outputs": [
        {
          "output_type": "stream",
          "name": "stdout",
          "text": [
            "/content/gdrive/MyDrive/Colab Notebooks/Librairiee_5\n"
          ]
        }
      ]
    },
    {
      "cell_type": "markdown",
      "source": [
        "## **Analyse du comportement client**\n",
        "\n",
        "Ma mission ici pour Lapage est d'analyser les forces, les faiblesses et le comportement des clients de Lapage.\n",
        "\n",
        "Il m'a également été demandé d'analyser la relation entre le sexe d'un client et les catégories de livres achetés, puis le lien entre l'âge des clients et le montant total des achats, la fréquence d'achat, la taille moyenne du panier et les catégories de livres achetés.\n",
        "\n",
        "Résumé :\n",
        "\n",
        "III. Analyse du comportement du client\n",
        " 1. Relation entre le sexe du client et la catégorie d'achat\n",
        "\n",
        " -- a. Tableau de contingence et carte thermique\n",
        "\n",
        " -- b. Test du chi carré\n",
        "\n",
        " 2. Analyse du comportement des clients selon leur âge\n",
        "\n",
        "  -- a. Calculs et matrice de Pearson\n",
        "\n",
        "  -- b. Âge des clients vs fréquence d'achat\n",
        "\n",
        "  -- c. Âge des clients par rapport au montant total de l'achat\n",
        "\n",
        "  -- d. Âge des clients vs panier moyen\n",
        "\n",
        "  -- e. Âge des clients vs catégorie de livres achetés\n",
        "\n",
        "\n",
        "3. Conclusion (partie 3)"
      ],
      "metadata": {
        "id": "Ujv3Q_gl9Fyy"
      }
    },
    {
      "cell_type": "code",
      "source": [
        "#IMPOrtation de biblioteque\n"
      ],
      "metadata": {
        "id": "aiKweTI086FP"
      },
      "execution_count": 4,
      "outputs": []
    },
    {
      "cell_type": "code",
      "source": [
        "import math\n",
        "import scipy.stats as st # tests shapiro et spearman\n",
        "import statsmodels.api as sm #pvalue\n",
        "#import pingouin as pg # test anova\n",
        "import statsmodels.api as sm #anova test\n",
        "import statsmodels.formula.api as smf # test anova\n",
        "from statsmodels.formula.api import ols #test anova\n",
        "import numpy as np\n",
        "import pandas as pd\n",
        "import matplotlib.pyplot as plt\n",
        "import datetime as dt\n",
        "import seaborn as sns\n",
        "import warnings"
      ],
      "metadata": {
        "id": "aRWCceDO86Q3"
      },
      "execution_count": 5,
      "outputs": []
    },
    {
      "cell_type": "code",
      "source": [
        "#shapiro-wilk test\n",
        "def shapiro_test(x):\n",
        "    from scipy.stats import shapiro\n",
        "    x1, pval1 = shapiro(x)\n",
        "\n",
        "    print(\"=\"*100,\"\\n\")\n",
        "    print(\"Shapiro-Wilk test\")\n",
        "    if pval1 < 0.05:\n",
        "        print(\"L'hypothèse nulle est rejetée \\t ==> La variable ne suit pas une loi normale\")\n",
        "    else:\n",
        "        print(\"On ne peut pas rejeter l'hypothèse nulle H0  (La variable suit  une loi normale)\")\n",
        "    print()\n",
        "    print(\"=\"*100,\"\\n\")\n",
        "\n",
        "#spearman test\n",
        "def spearman_test(x,y):\n",
        "    print(\"=\"*100, \"\\n\")\n",
        "    print(\"Test d'Independence (Spearman's Test)\\n\")\n",
        "\n",
        "    rs = st.spearmanr(x,y)[0]\n",
        "    pvalue = st.spearmanr(x,y)[1]\n",
        "\n",
        "    if abs(rs) < .10:\n",
        "        qual = 'negligable (ou null)'\n",
        "    elif abs(rs) < .20:\n",
        "        qual = 'flaible'\n",
        "    elif abs(rs) < .40:\n",
        "        qual = 'moderé'\n",
        "    elif abs(rs) < .60:\n",
        "        qual = 'assez élévé'\n",
        "    elif abs(rs) < .80:\n",
        "        qual = 'élévé'\n",
        "    else:\n",
        "        qual = 'tres élévé'\n",
        "\n",
        "    print(\"Spearman coeff =\",rs)\n",
        "    print(\"Spearman pvalue =\",pvalue)\n",
        "    print()\n",
        "\n",
        "    if rs == 0:\n",
        "        print(\"On ne peut pas rejeter l'hypothèse nulle H0 (les variables sont indépendantes)\")\n",
        "    elif rs < 0 :\n",
        "        if pvalue < 0.05:\n",
        "            print(\"Les variables présentent une corrélation significativement {} négative\".format(qual))\n",
        "        else:\n",
        "            print(\"Les variables ont une faible corrélation négative significative \".format(qual))\n",
        "    elif rs > 0:\n",
        "        if pvalue < 0.05:\n",
        "            print(\"Les variables présentent une corrélation significativement {} positive\".format(qual))\n",
        "        else:\n",
        "            print(\"Les variables ont une faible corrélation positive significative\".format(qual))"
      ],
      "metadata": {
        "id": "TOKpVHUC-mfP"
      },
      "execution_count": 6,
      "outputs": []
    },
    {
      "cell_type": "code",
      "source": [
        "#importation lapage b2c database\n",
        "lapage_df_b2c = pd.read_csv('export_lapage_df_b2c.csv', sep=';')\n",
        "#date convertion\n",
        "lapage_df_b2c['date'] = pd.to_datetime(lapage_df_b2c['date'])\n",
        "#supression de la 1ere colone du dataframe\n",
        "lapage_df_b2c.drop('Unnamed: 0', 1, inplace=True)\n",
        "lapage_df_b2c"
      ],
      "metadata": {
        "colab": {
          "base_uri": "https://localhost:8080/",
          "height": 478
        },
        "id": "_ZsJCsLbAqaH",
        "outputId": "0dfe9214-6986-4967-fa54-a7ee98452e91"
      },
      "execution_count": 7,
      "outputs": [
        {
          "output_type": "stream",
          "name": "stderr",
          "text": [
            "<ipython-input-7-d66545e4d8a3>:6: FutureWarning: In a future version of pandas all arguments of DataFrame.drop except for the argument 'labels' will be keyword-only.\n",
            "  lapage_df_b2c.drop('Unnamed: 0', 1, inplace=True)\n"
          ]
        },
        {
          "output_type": "execute_result",
          "data": {
            "text/plain": [
              "       id_prod                        time session_id client_id       date  \\\n",
              "0       0_1518  2022-05-20 13:21:29.043970   s_211425     c_103 2022-05-20   \n",
              "1        1_251  2022-02-02 07:55:19.149409   s_158752    c_8534 2022-02-02   \n",
              "2        2_209  2021-06-24 04:19:29.835891    s_52962    c_6941 2021-06-24   \n",
              "3       0_1509  2023-01-11 08:22:08.194479   s_325227    c_4232 2023-01-11   \n",
              "4       0_1418  2022-10-20 15:59:16.084030   s_285425    c_1478 2022-10-20   \n",
              "...        ...                         ...        ...       ...        ...   \n",
              "612621  0_1551  2022-01-15 13:05:06.246925   s_150195    c_8489 2022-01-15   \n",
              "612622   1_639  2022-03-19 16:03:23.429229   s_181434    c_4370 2022-03-19   \n",
              "612623  0_1425  2022-12-20 04:33:37.584749   s_314704     c_304 2022-12-20   \n",
              "612624  0_1994  2021-07-16 20:36:35.350579    s_63204    c_2227 2021-07-16   \n",
              "612625   1_523  2022-09-28 01:12:01.973763   s_274568    c_3873 2022-09-28   \n",
              "\n",
              "        year   period sex  birth  age  price  categ   age_groups  \n",
              "0       2022  2022-05   f   1986   37   4.18      0  36 - 45 ans  \n",
              "1       2022  2022-02   m   1988   35  15.99      1  26 - 35 ans  \n",
              "2       2021  2021-06   m   2000   23  69.99      2  16 - 25 ans  \n",
              "3       2023  2023-01   m   1980   43   4.99      0  36 - 45 ans  \n",
              "4       2022  2022-10   f   1972   51   8.57      0  46 - 55 ans  \n",
              "...      ...      ...  ..    ...  ...    ...    ...          ...  \n",
              "612621  2022  2022-01   f   1951   72  12.99      0  66 - 75 ans  \n",
              "612622  2022  2022-03   f   1977   46  10.99      1  46 - 55 ans  \n",
              "612623  2022  2022-12   f   1988   35  12.99      0  26 - 35 ans  \n",
              "612624  2021  2021-07   m   1986   37   4.98      0  36 - 45 ans  \n",
              "612625  2022  2022-09   m   1995   28  23.99      1  26 - 35 ans  \n",
              "\n",
              "[612626 rows x 13 columns]"
            ],
            "text/html": [
              "\n",
              "\n",
              "  <div id=\"df-5df8aa16-6e03-48cc-8732-ebf08ca18bf5\">\n",
              "    <div class=\"colab-df-container\">\n",
              "      <div>\n",
              "<style scoped>\n",
              "    .dataframe tbody tr th:only-of-type {\n",
              "        vertical-align: middle;\n",
              "    }\n",
              "\n",
              "    .dataframe tbody tr th {\n",
              "        vertical-align: top;\n",
              "    }\n",
              "\n",
              "    .dataframe thead th {\n",
              "        text-align: right;\n",
              "    }\n",
              "</style>\n",
              "<table border=\"1\" class=\"dataframe\">\n",
              "  <thead>\n",
              "    <tr style=\"text-align: right;\">\n",
              "      <th></th>\n",
              "      <th>id_prod</th>\n",
              "      <th>time</th>\n",
              "      <th>session_id</th>\n",
              "      <th>client_id</th>\n",
              "      <th>date</th>\n",
              "      <th>year</th>\n",
              "      <th>period</th>\n",
              "      <th>sex</th>\n",
              "      <th>birth</th>\n",
              "      <th>age</th>\n",
              "      <th>price</th>\n",
              "      <th>categ</th>\n",
              "      <th>age_groups</th>\n",
              "    </tr>\n",
              "  </thead>\n",
              "  <tbody>\n",
              "    <tr>\n",
              "      <th>0</th>\n",
              "      <td>0_1518</td>\n",
              "      <td>2022-05-20 13:21:29.043970</td>\n",
              "      <td>s_211425</td>\n",
              "      <td>c_103</td>\n",
              "      <td>2022-05-20</td>\n",
              "      <td>2022</td>\n",
              "      <td>2022-05</td>\n",
              "      <td>f</td>\n",
              "      <td>1986</td>\n",
              "      <td>37</td>\n",
              "      <td>4.18</td>\n",
              "      <td>0</td>\n",
              "      <td>36 - 45 ans</td>\n",
              "    </tr>\n",
              "    <tr>\n",
              "      <th>1</th>\n",
              "      <td>1_251</td>\n",
              "      <td>2022-02-02 07:55:19.149409</td>\n",
              "      <td>s_158752</td>\n",
              "      <td>c_8534</td>\n",
              "      <td>2022-02-02</td>\n",
              "      <td>2022</td>\n",
              "      <td>2022-02</td>\n",
              "      <td>m</td>\n",
              "      <td>1988</td>\n",
              "      <td>35</td>\n",
              "      <td>15.99</td>\n",
              "      <td>1</td>\n",
              "      <td>26 - 35 ans</td>\n",
              "    </tr>\n",
              "    <tr>\n",
              "      <th>2</th>\n",
              "      <td>2_209</td>\n",
              "      <td>2021-06-24 04:19:29.835891</td>\n",
              "      <td>s_52962</td>\n",
              "      <td>c_6941</td>\n",
              "      <td>2021-06-24</td>\n",
              "      <td>2021</td>\n",
              "      <td>2021-06</td>\n",
              "      <td>m</td>\n",
              "      <td>2000</td>\n",
              "      <td>23</td>\n",
              "      <td>69.99</td>\n",
              "      <td>2</td>\n",
              "      <td>16 - 25 ans</td>\n",
              "    </tr>\n",
              "    <tr>\n",
              "      <th>3</th>\n",
              "      <td>0_1509</td>\n",
              "      <td>2023-01-11 08:22:08.194479</td>\n",
              "      <td>s_325227</td>\n",
              "      <td>c_4232</td>\n",
              "      <td>2023-01-11</td>\n",
              "      <td>2023</td>\n",
              "      <td>2023-01</td>\n",
              "      <td>m</td>\n",
              "      <td>1980</td>\n",
              "      <td>43</td>\n",
              "      <td>4.99</td>\n",
              "      <td>0</td>\n",
              "      <td>36 - 45 ans</td>\n",
              "    </tr>\n",
              "    <tr>\n",
              "      <th>4</th>\n",
              "      <td>0_1418</td>\n",
              "      <td>2022-10-20 15:59:16.084030</td>\n",
              "      <td>s_285425</td>\n",
              "      <td>c_1478</td>\n",
              "      <td>2022-10-20</td>\n",
              "      <td>2022</td>\n",
              "      <td>2022-10</td>\n",
              "      <td>f</td>\n",
              "      <td>1972</td>\n",
              "      <td>51</td>\n",
              "      <td>8.57</td>\n",
              "      <td>0</td>\n",
              "      <td>46 - 55 ans</td>\n",
              "    </tr>\n",
              "    <tr>\n",
              "      <th>...</th>\n",
              "      <td>...</td>\n",
              "      <td>...</td>\n",
              "      <td>...</td>\n",
              "      <td>...</td>\n",
              "      <td>...</td>\n",
              "      <td>...</td>\n",
              "      <td>...</td>\n",
              "      <td>...</td>\n",
              "      <td>...</td>\n",
              "      <td>...</td>\n",
              "      <td>...</td>\n",
              "      <td>...</td>\n",
              "      <td>...</td>\n",
              "    </tr>\n",
              "    <tr>\n",
              "      <th>612621</th>\n",
              "      <td>0_1551</td>\n",
              "      <td>2022-01-15 13:05:06.246925</td>\n",
              "      <td>s_150195</td>\n",
              "      <td>c_8489</td>\n",
              "      <td>2022-01-15</td>\n",
              "      <td>2022</td>\n",
              "      <td>2022-01</td>\n",
              "      <td>f</td>\n",
              "      <td>1951</td>\n",
              "      <td>72</td>\n",
              "      <td>12.99</td>\n",
              "      <td>0</td>\n",
              "      <td>66 - 75 ans</td>\n",
              "    </tr>\n",
              "    <tr>\n",
              "      <th>612622</th>\n",
              "      <td>1_639</td>\n",
              "      <td>2022-03-19 16:03:23.429229</td>\n",
              "      <td>s_181434</td>\n",
              "      <td>c_4370</td>\n",
              "      <td>2022-03-19</td>\n",
              "      <td>2022</td>\n",
              "      <td>2022-03</td>\n",
              "      <td>f</td>\n",
              "      <td>1977</td>\n",
              "      <td>46</td>\n",
              "      <td>10.99</td>\n",
              "      <td>1</td>\n",
              "      <td>46 - 55 ans</td>\n",
              "    </tr>\n",
              "    <tr>\n",
              "      <th>612623</th>\n",
              "      <td>0_1425</td>\n",
              "      <td>2022-12-20 04:33:37.584749</td>\n",
              "      <td>s_314704</td>\n",
              "      <td>c_304</td>\n",
              "      <td>2022-12-20</td>\n",
              "      <td>2022</td>\n",
              "      <td>2022-12</td>\n",
              "      <td>f</td>\n",
              "      <td>1988</td>\n",
              "      <td>35</td>\n",
              "      <td>12.99</td>\n",
              "      <td>0</td>\n",
              "      <td>26 - 35 ans</td>\n",
              "    </tr>\n",
              "    <tr>\n",
              "      <th>612624</th>\n",
              "      <td>0_1994</td>\n",
              "      <td>2021-07-16 20:36:35.350579</td>\n",
              "      <td>s_63204</td>\n",
              "      <td>c_2227</td>\n",
              "      <td>2021-07-16</td>\n",
              "      <td>2021</td>\n",
              "      <td>2021-07</td>\n",
              "      <td>m</td>\n",
              "      <td>1986</td>\n",
              "      <td>37</td>\n",
              "      <td>4.98</td>\n",
              "      <td>0</td>\n",
              "      <td>36 - 45 ans</td>\n",
              "    </tr>\n",
              "    <tr>\n",
              "      <th>612625</th>\n",
              "      <td>1_523</td>\n",
              "      <td>2022-09-28 01:12:01.973763</td>\n",
              "      <td>s_274568</td>\n",
              "      <td>c_3873</td>\n",
              "      <td>2022-09-28</td>\n",
              "      <td>2022</td>\n",
              "      <td>2022-09</td>\n",
              "      <td>m</td>\n",
              "      <td>1995</td>\n",
              "      <td>28</td>\n",
              "      <td>23.99</td>\n",
              "      <td>1</td>\n",
              "      <td>26 - 35 ans</td>\n",
              "    </tr>\n",
              "  </tbody>\n",
              "</table>\n",
              "<p>612626 rows × 13 columns</p>\n",
              "</div>\n",
              "      <button class=\"colab-df-convert\" onclick=\"convertToInteractive('df-5df8aa16-6e03-48cc-8732-ebf08ca18bf5')\"\n",
              "              title=\"Convert this dataframe to an interactive table.\"\n",
              "              style=\"display:none;\">\n",
              "\n",
              "  <svg xmlns=\"http://www.w3.org/2000/svg\" height=\"24px\"viewBox=\"0 0 24 24\"\n",
              "       width=\"24px\">\n",
              "    <path d=\"M0 0h24v24H0V0z\" fill=\"none\"/>\n",
              "    <path d=\"M18.56 5.44l.94 2.06.94-2.06 2.06-.94-2.06-.94-.94-2.06-.94 2.06-2.06.94zm-11 1L8.5 8.5l.94-2.06 2.06-.94-2.06-.94L8.5 2.5l-.94 2.06-2.06.94zm10 10l.94 2.06.94-2.06 2.06-.94-2.06-.94-.94-2.06-.94 2.06-2.06.94z\"/><path d=\"M17.41 7.96l-1.37-1.37c-.4-.4-.92-.59-1.43-.59-.52 0-1.04.2-1.43.59L10.3 9.45l-7.72 7.72c-.78.78-.78 2.05 0 2.83L4 21.41c.39.39.9.59 1.41.59.51 0 1.02-.2 1.41-.59l7.78-7.78 2.81-2.81c.8-.78.8-2.07 0-2.86zM5.41 20L4 18.59l7.72-7.72 1.47 1.35L5.41 20z\"/>\n",
              "  </svg>\n",
              "      </button>\n",
              "\n",
              "\n",
              "\n",
              "    <div id=\"df-d6049aa1-f240-4ecb-8de3-3c2e2c582c2a\">\n",
              "      <button class=\"colab-df-quickchart\" onclick=\"quickchart('df-d6049aa1-f240-4ecb-8de3-3c2e2c582c2a')\"\n",
              "              title=\"Suggest charts.\"\n",
              "              style=\"display:none;\">\n",
              "\n",
              "<svg xmlns=\"http://www.w3.org/2000/svg\" height=\"24px\"viewBox=\"0 0 24 24\"\n",
              "     width=\"24px\">\n",
              "    <g>\n",
              "        <path d=\"M19 3H5c-1.1 0-2 .9-2 2v14c0 1.1.9 2 2 2h14c1.1 0 2-.9 2-2V5c0-1.1-.9-2-2-2zM9 17H7v-7h2v7zm4 0h-2V7h2v10zm4 0h-2v-4h2v4z\"/>\n",
              "    </g>\n",
              "</svg>\n",
              "      </button>\n",
              "    </div>\n",
              "\n",
              "<style>\n",
              "  .colab-df-quickchart {\n",
              "    background-color: #E8F0FE;\n",
              "    border: none;\n",
              "    border-radius: 50%;\n",
              "    cursor: pointer;\n",
              "    display: none;\n",
              "    fill: #1967D2;\n",
              "    height: 32px;\n",
              "    padding: 0 0 0 0;\n",
              "    width: 32px;\n",
              "  }\n",
              "\n",
              "  .colab-df-quickchart:hover {\n",
              "    background-color: #E2EBFA;\n",
              "    box-shadow: 0px 1px 2px rgba(60, 64, 67, 0.3), 0px 1px 3px 1px rgba(60, 64, 67, 0.15);\n",
              "    fill: #174EA6;\n",
              "  }\n",
              "\n",
              "  [theme=dark] .colab-df-quickchart {\n",
              "    background-color: #3B4455;\n",
              "    fill: #D2E3FC;\n",
              "  }\n",
              "\n",
              "  [theme=dark] .colab-df-quickchart:hover {\n",
              "    background-color: #434B5C;\n",
              "    box-shadow: 0px 1px 3px 1px rgba(0, 0, 0, 0.15);\n",
              "    filter: drop-shadow(0px 1px 2px rgba(0, 0, 0, 0.3));\n",
              "    fill: #FFFFFF;\n",
              "  }\n",
              "</style>\n",
              "\n",
              "    <script>\n",
              "      async function quickchart(key) {\n",
              "        const containerElement = document.querySelector('#' + key);\n",
              "        const charts = await google.colab.kernel.invokeFunction(\n",
              "            'suggestCharts', [key], {});\n",
              "      }\n",
              "    </script>\n",
              "\n",
              "      <script>\n",
              "\n",
              "function displayQuickchartButton(domScope) {\n",
              "  let quickchartButtonEl =\n",
              "    domScope.querySelector('#df-d6049aa1-f240-4ecb-8de3-3c2e2c582c2a button.colab-df-quickchart');\n",
              "  quickchartButtonEl.style.display =\n",
              "    google.colab.kernel.accessAllowed ? 'block' : 'none';\n",
              "}\n",
              "\n",
              "        displayQuickchartButton(document);\n",
              "      </script>\n",
              "      <style>\n",
              "    .colab-df-container {\n",
              "      display:flex;\n",
              "      flex-wrap:wrap;\n",
              "      gap: 12px;\n",
              "    }\n",
              "\n",
              "    .colab-df-convert {\n",
              "      background-color: #E8F0FE;\n",
              "      border: none;\n",
              "      border-radius: 50%;\n",
              "      cursor: pointer;\n",
              "      display: none;\n",
              "      fill: #1967D2;\n",
              "      height: 32px;\n",
              "      padding: 0 0 0 0;\n",
              "      width: 32px;\n",
              "    }\n",
              "\n",
              "    .colab-df-convert:hover {\n",
              "      background-color: #E2EBFA;\n",
              "      box-shadow: 0px 1px 2px rgba(60, 64, 67, 0.3), 0px 1px 3px 1px rgba(60, 64, 67, 0.15);\n",
              "      fill: #174EA6;\n",
              "    }\n",
              "\n",
              "    [theme=dark] .colab-df-convert {\n",
              "      background-color: #3B4455;\n",
              "      fill: #D2E3FC;\n",
              "    }\n",
              "\n",
              "    [theme=dark] .colab-df-convert:hover {\n",
              "      background-color: #434B5C;\n",
              "      box-shadow: 0px 1px 3px 1px rgba(0, 0, 0, 0.15);\n",
              "      filter: drop-shadow(0px 1px 2px rgba(0, 0, 0, 0.3));\n",
              "      fill: #FFFFFF;\n",
              "    }\n",
              "  </style>\n",
              "\n",
              "      <script>\n",
              "        const buttonEl =\n",
              "          document.querySelector('#df-5df8aa16-6e03-48cc-8732-ebf08ca18bf5 button.colab-df-convert');\n",
              "        buttonEl.style.display =\n",
              "          google.colab.kernel.accessAllowed ? 'block' : 'none';\n",
              "\n",
              "        async function convertToInteractive(key) {\n",
              "          const element = document.querySelector('#df-5df8aa16-6e03-48cc-8732-ebf08ca18bf5');\n",
              "          const dataTable =\n",
              "            await google.colab.kernel.invokeFunction('convertToInteractive',\n",
              "                                                     [key], {});\n",
              "          if (!dataTable) return;\n",
              "\n",
              "          const docLinkHtml = 'Like what you see? Visit the ' +\n",
              "            '<a target=\"_blank\" href=https://colab.research.google.com/notebooks/data_table.ipynb>data table notebook</a>'\n",
              "            + ' to learn more about interactive tables.';\n",
              "          element.innerHTML = '';\n",
              "          dataTable['output_type'] = 'display_data';\n",
              "          await google.colab.output.renderOutput(dataTable, element);\n",
              "          const docLink = document.createElement('div');\n",
              "          docLink.innerHTML = docLinkHtml;\n",
              "          element.appendChild(docLink);\n",
              "        }\n",
              "      </script>\n",
              "    </div>\n",
              "  </div>\n"
            ]
          },
          "metadata": {},
          "execution_count": 7
        }
      ]
    },
    {
      "cell_type": "markdown",
      "source": [
        "## **III. ANALYSE DE LA CORELATIONS AVEC LES CLIENTS**\n",
        "\n",
        " **1. Relation entre le sexe du client et la catégorie d'achat**\n",
        "\n",
        "\n",
        "**a. Tableau de contingence entre sexe et catégorie et heatmap**"
      ],
      "metadata": {
        "id": "8VFvYm3kBt57"
      }
    },
    {
      "cell_type": "code",
      "source": [
        "# Tableau de contingence entre sexe et catégorie et heatmap\n",
        "X, Y = \"sex\", \"categ\"\n",
        "cont_table = lapage_df_b2c[[X,Y]].pivot_table(index=X,columns=Y,aggfunc=len)\n",
        "cont_table"
      ],
      "metadata": {
        "colab": {
          "base_uri": "https://localhost:8080/",
          "height": 143
        },
        "id": "9jxd3uPHAqdC",
        "outputId": "d0f776e1-8dd5-4459-fbdd-5b1b58b19e96"
      },
      "execution_count": 8,
      "outputs": [
        {
          "output_type": "execute_result",
          "data": {
            "text/plain": [
              "categ       0       1      2\n",
              "sex                         \n",
              "f      192025  110550  16429\n",
              "m      178044  100227  15351"
            ],
            "text/html": [
              "\n",
              "\n",
              "  <div id=\"df-be508b03-594a-4d71-8871-eb0c9f83a13f\">\n",
              "    <div class=\"colab-df-container\">\n",
              "      <div>\n",
              "<style scoped>\n",
              "    .dataframe tbody tr th:only-of-type {\n",
              "        vertical-align: middle;\n",
              "    }\n",
              "\n",
              "    .dataframe tbody tr th {\n",
              "        vertical-align: top;\n",
              "    }\n",
              "\n",
              "    .dataframe thead th {\n",
              "        text-align: right;\n",
              "    }\n",
              "</style>\n",
              "<table border=\"1\" class=\"dataframe\">\n",
              "  <thead>\n",
              "    <tr style=\"text-align: right;\">\n",
              "      <th>categ</th>\n",
              "      <th>0</th>\n",
              "      <th>1</th>\n",
              "      <th>2</th>\n",
              "    </tr>\n",
              "    <tr>\n",
              "      <th>sex</th>\n",
              "      <th></th>\n",
              "      <th></th>\n",
              "      <th></th>\n",
              "    </tr>\n",
              "  </thead>\n",
              "  <tbody>\n",
              "    <tr>\n",
              "      <th>f</th>\n",
              "      <td>192025</td>\n",
              "      <td>110550</td>\n",
              "      <td>16429</td>\n",
              "    </tr>\n",
              "    <tr>\n",
              "      <th>m</th>\n",
              "      <td>178044</td>\n",
              "      <td>100227</td>\n",
              "      <td>15351</td>\n",
              "    </tr>\n",
              "  </tbody>\n",
              "</table>\n",
              "</div>\n",
              "      <button class=\"colab-df-convert\" onclick=\"convertToInteractive('df-be508b03-594a-4d71-8871-eb0c9f83a13f')\"\n",
              "              title=\"Convert this dataframe to an interactive table.\"\n",
              "              style=\"display:none;\">\n",
              "\n",
              "  <svg xmlns=\"http://www.w3.org/2000/svg\" height=\"24px\"viewBox=\"0 0 24 24\"\n",
              "       width=\"24px\">\n",
              "    <path d=\"M0 0h24v24H0V0z\" fill=\"none\"/>\n",
              "    <path d=\"M18.56 5.44l.94 2.06.94-2.06 2.06-.94-2.06-.94-.94-2.06-.94 2.06-2.06.94zm-11 1L8.5 8.5l.94-2.06 2.06-.94-2.06-.94L8.5 2.5l-.94 2.06-2.06.94zm10 10l.94 2.06.94-2.06 2.06-.94-2.06-.94-.94-2.06-.94 2.06-2.06.94z\"/><path d=\"M17.41 7.96l-1.37-1.37c-.4-.4-.92-.59-1.43-.59-.52 0-1.04.2-1.43.59L10.3 9.45l-7.72 7.72c-.78.78-.78 2.05 0 2.83L4 21.41c.39.39.9.59 1.41.59.51 0 1.02-.2 1.41-.59l7.78-7.78 2.81-2.81c.8-.78.8-2.07 0-2.86zM5.41 20L4 18.59l7.72-7.72 1.47 1.35L5.41 20z\"/>\n",
              "  </svg>\n",
              "      </button>\n",
              "\n",
              "\n",
              "\n",
              "    <div id=\"df-ee603ef3-8d3a-4643-8172-733813a57714\">\n",
              "      <button class=\"colab-df-quickchart\" onclick=\"quickchart('df-ee603ef3-8d3a-4643-8172-733813a57714')\"\n",
              "              title=\"Suggest charts.\"\n",
              "              style=\"display:none;\">\n",
              "\n",
              "<svg xmlns=\"http://www.w3.org/2000/svg\" height=\"24px\"viewBox=\"0 0 24 24\"\n",
              "     width=\"24px\">\n",
              "    <g>\n",
              "        <path d=\"M19 3H5c-1.1 0-2 .9-2 2v14c0 1.1.9 2 2 2h14c1.1 0 2-.9 2-2V5c0-1.1-.9-2-2-2zM9 17H7v-7h2v7zm4 0h-2V7h2v10zm4 0h-2v-4h2v4z\"/>\n",
              "    </g>\n",
              "</svg>\n",
              "      </button>\n",
              "    </div>\n",
              "\n",
              "<style>\n",
              "  .colab-df-quickchart {\n",
              "    background-color: #E8F0FE;\n",
              "    border: none;\n",
              "    border-radius: 50%;\n",
              "    cursor: pointer;\n",
              "    display: none;\n",
              "    fill: #1967D2;\n",
              "    height: 32px;\n",
              "    padding: 0 0 0 0;\n",
              "    width: 32px;\n",
              "  }\n",
              "\n",
              "  .colab-df-quickchart:hover {\n",
              "    background-color: #E2EBFA;\n",
              "    box-shadow: 0px 1px 2px rgba(60, 64, 67, 0.3), 0px 1px 3px 1px rgba(60, 64, 67, 0.15);\n",
              "    fill: #174EA6;\n",
              "  }\n",
              "\n",
              "  [theme=dark] .colab-df-quickchart {\n",
              "    background-color: #3B4455;\n",
              "    fill: #D2E3FC;\n",
              "  }\n",
              "\n",
              "  [theme=dark] .colab-df-quickchart:hover {\n",
              "    background-color: #434B5C;\n",
              "    box-shadow: 0px 1px 3px 1px rgba(0, 0, 0, 0.15);\n",
              "    filter: drop-shadow(0px 1px 2px rgba(0, 0, 0, 0.3));\n",
              "    fill: #FFFFFF;\n",
              "  }\n",
              "</style>\n",
              "\n",
              "    <script>\n",
              "      async function quickchart(key) {\n",
              "        const containerElement = document.querySelector('#' + key);\n",
              "        const charts = await google.colab.kernel.invokeFunction(\n",
              "            'suggestCharts', [key], {});\n",
              "      }\n",
              "    </script>\n",
              "\n",
              "      <script>\n",
              "\n",
              "function displayQuickchartButton(domScope) {\n",
              "  let quickchartButtonEl =\n",
              "    domScope.querySelector('#df-ee603ef3-8d3a-4643-8172-733813a57714 button.colab-df-quickchart');\n",
              "  quickchartButtonEl.style.display =\n",
              "    google.colab.kernel.accessAllowed ? 'block' : 'none';\n",
              "}\n",
              "\n",
              "        displayQuickchartButton(document);\n",
              "      </script>\n",
              "      <style>\n",
              "    .colab-df-container {\n",
              "      display:flex;\n",
              "      flex-wrap:wrap;\n",
              "      gap: 12px;\n",
              "    }\n",
              "\n",
              "    .colab-df-convert {\n",
              "      background-color: #E8F0FE;\n",
              "      border: none;\n",
              "      border-radius: 50%;\n",
              "      cursor: pointer;\n",
              "      display: none;\n",
              "      fill: #1967D2;\n",
              "      height: 32px;\n",
              "      padding: 0 0 0 0;\n",
              "      width: 32px;\n",
              "    }\n",
              "\n",
              "    .colab-df-convert:hover {\n",
              "      background-color: #E2EBFA;\n",
              "      box-shadow: 0px 1px 2px rgba(60, 64, 67, 0.3), 0px 1px 3px 1px rgba(60, 64, 67, 0.15);\n",
              "      fill: #174EA6;\n",
              "    }\n",
              "\n",
              "    [theme=dark] .colab-df-convert {\n",
              "      background-color: #3B4455;\n",
              "      fill: #D2E3FC;\n",
              "    }\n",
              "\n",
              "    [theme=dark] .colab-df-convert:hover {\n",
              "      background-color: #434B5C;\n",
              "      box-shadow: 0px 1px 3px 1px rgba(0, 0, 0, 0.15);\n",
              "      filter: drop-shadow(0px 1px 2px rgba(0, 0, 0, 0.3));\n",
              "      fill: #FFFFFF;\n",
              "    }\n",
              "  </style>\n",
              "\n",
              "      <script>\n",
              "        const buttonEl =\n",
              "          document.querySelector('#df-be508b03-594a-4d71-8871-eb0c9f83a13f button.colab-df-convert');\n",
              "        buttonEl.style.display =\n",
              "          google.colab.kernel.accessAllowed ? 'block' : 'none';\n",
              "\n",
              "        async function convertToInteractive(key) {\n",
              "          const element = document.querySelector('#df-be508b03-594a-4d71-8871-eb0c9f83a13f');\n",
              "          const dataTable =\n",
              "            await google.colab.kernel.invokeFunction('convertToInteractive',\n",
              "                                                     [key], {});\n",
              "          if (!dataTable) return;\n",
              "\n",
              "          const docLinkHtml = 'Like what you see? Visit the ' +\n",
              "            '<a target=\"_blank\" href=https://colab.research.google.com/notebooks/data_table.ipynb>data table notebook</a>'\n",
              "            + ' to learn more about interactive tables.';\n",
              "          element.innerHTML = '';\n",
              "          dataTable['output_type'] = 'display_data';\n",
              "          await google.colab.output.renderOutput(dataTable, element);\n",
              "          const docLink = document.createElement('div');\n",
              "          docLink.innerHTML = docLinkHtml;\n",
              "          element.appendChild(docLink);\n",
              "        }\n",
              "      </script>\n",
              "    </div>\n",
              "  </div>\n"
            ]
          },
          "metadata": {},
          "execution_count": 8
        }
      ]
    },
    {
      "cell_type": "code",
      "source": [
        "# Affichage\n",
        "#heatmap du tableau de contingence entre sexe et catégorie\n",
        "fig = plt.figure(num=None, figsize=(10, 6), dpi=80, facecolor='w', edgecolor='k')\n",
        "plt.clf()\n",
        "ax = fig.add_subplot(111)\n",
        "ax.set_aspect(1)\n",
        "res = sns.heatmap(cont_table, annot=True, fmt='.2f', cmap=\"YlGnBu\", vmin=0.0, vmax=300000.0)\n",
        "plt.title(\"Heatmap du tableau de contingence entre le sexe et la catégorie\",fontsize=12)\n",
        "#plt.savefig(\"Heatmap du tableau de contingence entre le sexe et la catégorie.png\", bbox_inches='tight')\n",
        "plt.show()"
      ],
      "metadata": {
        "colab": {
          "base_uri": "https://localhost:8080/",
          "height": 419
        },
        "id": "VXmf5pyGCoPH",
        "outputId": "6fa34c77-b422-49e6-87fb-88ae796ad872"
      },
      "execution_count": 9,
      "outputs": [
        {
          "output_type": "display_data",
          "data": {
            "text/plain": [
              "<Figure size 800x480 with 2 Axes>"
            ],
            "image/png": "[encoded data removed]"
          },
          "metadata": {}
        }
      ]
    },
    {
      "cell_type": "markdown",
      "source": [
        "Notes :\n",
        "* Les femmes comme les hommes préfèrent respectivement les catégories 0, 1 et 2 enfin\n",
        "* Les catégories d'achat ne diffèrent pas selon le sexe du client\n",
        "* On constate seulement que les femmes consomment un peu plus que les hommes sur les 3 catégories de produits\n",
        "\n",
        "** b. Test du chi carré**\n",
        "\n",
        "Le test du chi carré est un test statistique qui va permettre de se prononcer sur le lien entre deux variables qualitatives. Comment peut-on dire que les deux variables de notre distribution ne sont pas indépendantes ? En d'autres termes, comment savoir si deux variables n'ont pas de relation statistique entre elles ?\n",
        "\n",
        "Situation : variable qualitative (sexe) vs variable qualitative (catégorie)\n",
        "\n",
        "Question : La catégorie des livres achetés est-elle dépendante du sexe des clients ?\n",
        "\n",
        "Outil : test du chi carré"
      ],
      "metadata": {
        "id": "sI7aMAFzDecl"
      }
    },
    {
      "cell_type": "code",
      "source": [
        "# test independence chi-square\n",
        "print(\"=\"*100,\"\\n\")\n",
        "print(\"Test d'indépendance entre le genre et la catégorie (test du chi carré)\")\n",
        "print(\"\\t Hypothèse nulle H0 : \\t \\t La préférence pour une catégorie de livre ne dépend pas du sexe du client\")\n",
        "print(\"\\t Hypothèse alternative H1 : \\t La préférence pour une catégorie dépend du sexe du client\")\n",
        "print('')\n",
        "\n",
        "#chi-square and p-value calculation\n",
        "conti = lapage_df_b2c[[X, Y]].pivot_table(index=X, columns=Y, aggfunc=len).fillna(0).copy()\n",
        "st_chi2, st_p, st_dof, st_exp = st.chi2_contingency(conti)\n",
        "print(\"Le khi-deux est de : \",st_chi2,\"\\n\")\n",
        "print(\"La p-value est de :\",st_p,\"\\n\")\n",
        "\n",
        "if st_p < 0.05:\n",
        "    print(\"L'hypothèse nulle est rejetée \\t ==> H1 : La préférence pour une catégorie dépend du sexe du client\")\n",
        "else:\n",
        "    print(\"On ne peut pas rejeter l'hypothèse nulle H0 (La préférence pour une catégorie de livre ne dépend pas du sexe du client\")"
      ],
      "metadata": {
        "colab": {
          "base_uri": "https://localhost:8080/"
        },
        "id": "pVzsXSYICoQz",
        "outputId": "eed4c0dc-3e04-4223-a4fb-bb69a673b0cf"
      },
      "execution_count": 10,
      "outputs": [
        {
          "output_type": "stream",
          "name": "stdout",
          "text": [
            "==================================================================================================== \n",
            "\n",
            "Test d'indépendance entre le genre et la catégorie (test du chi carré)\n",
            "\t Hypothèse nulle H0 : \t \t La préférence pour une catégorie de livre ne dépend pas du sexe du client\n",
            "\t Hypothèse alternative H1 : \t La préférence pour une catégorie dépend du sexe du client\n",
            "\n",
            "Le khi-deux est de :  18.75788251563821 \n",
            "\n",
            "La p-value est de : 8.448460261159054e-05 \n",
            "\n",
            "L'hypothèse nulle est rejetée \t ==> H1 : La préférence pour une catégorie dépend du sexe du client\n"
          ]
        }
      ]
    },
    {
      "cell_type": "markdown",
      "source": [
        "notes :\n",
        "Pour α = 5%, le sexe des clients dépend de la catégorie de livres achetés\n",
        "\n",
        "**2. Analyse du comportement des clients selon leur âge**\n",
        "\n",
        "**a. Calculs et matrice de Pearson**"
      ],
      "metadata": {
        "id": "vfGhlohzFKCy"
      }
    },
    {
      "cell_type": "code",
      "source": [
        "##lapage_df_b2c regrouper par age et age_groups\n",
        "lapage_df_b2c_age = lapage_df_b2c.groupby([\"age\", \"age_groups\",]).agg({\"id_prod\":\"count\",\"price\":\"sum\"}).reset_index()\n",
        "lapage_df_b2c_age.rename(columns={\"price\":\"total_purchase_amount\", \"id_prod\":\"purchase_frequency\"}, inplace=True)\n",
        "\n",
        "#calcul des variables \"montant total d'achat\", \"fréquence d'achat\" et \"panier moyen\" pour les clients B2C\n",
        "lapage_df_b2c_age[\"average_basket\"] = round(lapage_df_b2c_age[\"total_purchase_amount\"] / lapage_df_b2c_age[\"purchase_frequency\"],2)\n",
        "lapage_df_b2c_age[\"purchase_frequency\"].isin(lapage_df_b2c_age[\"age\"]==40)\n",
        "lapage_df_b2c_age\n"
      ],
      "metadata": {
        "colab": {
          "base_uri": "https://localhost:8080/",
          "height": 424
        },
        "id": "zCBX-qhOE9Y4",
        "outputId": "dbc68d63-7cbf-45ca-ff47-00f5483b1b8e"
      },
      "execution_count": 11,
      "outputs": [
        {
          "output_type": "execute_result",
          "data": {
            "text/plain": [
              "    age     age_groups  purchase_frequency  total_purchase_amount  \\\n",
              "0    19    16 - 25 ans               14769              591414.23   \n",
              "1    20    16 - 25 ans                4238              172831.75   \n",
              "2    21    16 - 25 ans                4468              178799.11   \n",
              "3    22    16 - 25 ans                4161              174347.66   \n",
              "4    23    16 - 25 ans                4299              160576.49   \n",
              "..  ...            ...                 ...                    ...   \n",
              "71   90  76 ans - plus                 315                5089.62   \n",
              "72   91  76 ans - plus                 293                4803.64   \n",
              "73   92  76 ans - plus                 164                2691.19   \n",
              "74   93  76 ans - plus                 222                3959.24   \n",
              "75   94  76 ans - plus                 199                3197.08   \n",
              "\n",
              "    average_basket  \n",
              "0            40.04  \n",
              "1            40.78  \n",
              "2            40.02  \n",
              "3            41.90  \n",
              "4            37.35  \n",
              "..             ...  \n",
              "71           16.16  \n",
              "72           16.39  \n",
              "73           16.41  \n",
              "74           17.83  \n",
              "75           16.07  \n",
              "\n",
              "[76 rows x 5 columns]"
            ],
            "text/html": [
              "\n",
              "\n",
              "  <div id=\"df-10f79231-79d1-4cd0-8e47-3b5d57fadc20\">\n",
              "    <div class=\"colab-df-container\">\n",
              "      <div>\n",
              "<style scoped>\n",
              "    .dataframe tbody tr th:only-of-type {\n",
              "        vertical-align: middle;\n",
              "    }\n",
              "\n",
              "    .dataframe tbody tr th {\n",
              "        vertical-align: top;\n",
              "    }\n",
              "\n",
              "    .dataframe thead th {\n",
              "        text-align: right;\n",
              "    }\n",
              "</style>\n",
              "<table border=\"1\" class=\"dataframe\">\n",
              "  <thead>\n",
              "    <tr style=\"text-align: right;\">\n",
              "      <th></th>\n",
              "      <th>age</th>\n",
              "      <th>age_groups</th>\n",
              "      <th>purchase_frequency</th>\n",
              "      <th>total_purchase_amount</th>\n",
              "      <th>average_basket</th>\n",
              "    </tr>\n",
              "  </thead>\n",
              "  <tbody>\n",
              "    <tr>\n",
              "      <th>0</th>\n",
              "      <td>19</td>\n",
              "      <td>16 - 25 ans</td>\n",
              "      <td>14769</td>\n",
              "      <td>591414.23</td>\n",
              "      <td>40.04</td>\n",
              "    </tr>\n",
              "    <tr>\n",
              "      <th>1</th>\n",
              "      <td>20</td>\n",
              "      <td>16 - 25 ans</td>\n",
              "      <td>4238</td>\n",
              "      <td>172831.75</td>\n",
              "      <td>40.78</td>\n",
              "    </tr>\n",
              "    <tr>\n",
              "      <th>2</th>\n",
              "      <td>21</td>\n",
              "      <td>16 - 25 ans</td>\n",
              "      <td>4468</td>\n",
              "      <td>178799.11</td>\n",
              "      <td>40.02</td>\n",
              "    </tr>\n",
              "    <tr>\n",
              "      <th>3</th>\n",
              "      <td>22</td>\n",
              "      <td>16 - 25 ans</td>\n",
              "      <td>4161</td>\n",
              "      <td>174347.66</td>\n",
              "      <td>41.90</td>\n",
              "    </tr>\n",
              "    <tr>\n",
              "      <th>4</th>\n",
              "      <td>23</td>\n",
              "      <td>16 - 25 ans</td>\n",
              "      <td>4299</td>\n",
              "      <td>160576.49</td>\n",
              "      <td>37.35</td>\n",
              "    </tr>\n",
              "    <tr>\n",
              "      <th>...</th>\n",
              "      <td>...</td>\n",
              "      <td>...</td>\n",
              "      <td>...</td>\n",
              "      <td>...</td>\n",
              "      <td>...</td>\n",
              "    </tr>\n",
              "    <tr>\n",
              "      <th>71</th>\n",
              "      <td>90</td>\n",
              "      <td>76 ans - plus</td>\n",
              "      <td>315</td>\n",
              "      <td>5089.62</td>\n",
              "      <td>16.16</td>\n",
              "    </tr>\n",
              "    <tr>\n",
              "      <th>72</th>\n",
              "      <td>91</td>\n",
              "      <td>76 ans - plus</td>\n",
              "      <td>293</td>\n",
              "      <td>4803.64</td>\n",
              "      <td>16.39</td>\n",
              "    </tr>\n",
              "    <tr>\n",
              "      <th>73</th>\n",
              "      <td>92</td>\n",
              "      <td>76 ans - plus</td>\n",
              "      <td>164</td>\n",
              "      <td>2691.19</td>\n",
              "      <td>16.41</td>\n",
              "    </tr>\n",
              "    <tr>\n",
              "      <th>74</th>\n",
              "      <td>93</td>\n",
              "      <td>76 ans - plus</td>\n",
              "      <td>222</td>\n",
              "      <td>3959.24</td>\n",
              "      <td>17.83</td>\n",
              "    </tr>\n",
              "    <tr>\n",
              "      <th>75</th>\n",
              "      <td>94</td>\n",
              "      <td>76 ans - plus</td>\n",
              "      <td>199</td>\n",
              "      <td>3197.08</td>\n",
              "      <td>16.07</td>\n",
              "    </tr>\n",
              "  </tbody>\n",
              "</table>\n",
              "<p>76 rows × 5 columns</p>\n",
              "</div>\n",
              "      <button class=\"colab-df-convert\" onclick=\"convertToInteractive('df-10f79231-79d1-4cd0-8e47-3b5d57fadc20')\"\n",
              "              title=\"Convert this dataframe to an interactive table.\"\n",
              "              style=\"display:none;\">\n",
              "\n",
              "  <svg xmlns=\"http://www.w3.org/2000/svg\" height=\"24px\"viewBox=\"0 0 24 24\"\n",
              "       width=\"24px\">\n",
              "    <path d=\"M0 0h24v24H0V0z\" fill=\"none\"/>\n",
              "    <path d=\"M18.56 5.44l.94 2.06.94-2.06 2.06-.94-2.06-.94-.94-2.06-.94 2.06-2.06.94zm-11 1L8.5 8.5l.94-2.06 2.06-.94-2.06-.94L8.5 2.5l-.94 2.06-2.06.94zm10 10l.94 2.06.94-2.06 2.06-.94-2.06-.94-.94-2.06-.94 2.06-2.06.94z\"/><path d=\"M17.41 7.96l-1.37-1.37c-.4-.4-.92-.59-1.43-.59-.52 0-1.04.2-1.43.59L10.3 9.45l-7.72 7.72c-.78.78-.78 2.05 0 2.83L4 21.41c.39.39.9.59 1.41.59.51 0 1.02-.2 1.41-.59l7.78-7.78 2.81-2.81c.8-.78.8-2.07 0-2.86zM5.41 20L4 18.59l7.72-7.72 1.47 1.35L5.41 20z\"/>\n",
              "  </svg>\n",
              "      </button>\n",
              "\n",
              "\n",
              "\n",
              "    <div id=\"df-4108597b-befa-4c04-a861-b81eb372b8c4\">\n",
              "      <button class=\"colab-df-quickchart\" onclick=\"quickchart('df-4108597b-befa-4c04-a861-b81eb372b8c4')\"\n",
              "              title=\"Suggest charts.\"\n",
              "              style=\"display:none;\">\n",
              "\n",
              "<svg xmlns=\"http://www.w3.org/2000/svg\" height=\"24px\"viewBox=\"0 0 24 24\"\n",
              "     width=\"24px\">\n",
              "    <g>\n",
              "        <path d=\"M19 3H5c-1.1 0-2 .9-2 2v14c0 1.1.9 2 2 2h14c1.1 0 2-.9 2-2V5c0-1.1-.9-2-2-2zM9 17H7v-7h2v7zm4 0h-2V7h2v10zm4 0h-2v-4h2v4z\"/>\n",
              "    </g>\n",
              "</svg>\n",
              "      </button>\n",
              "    </div>\n",
              "\n",
              "<style>\n",
              "  .colab-df-quickchart {\n",
              "    background-color: #E8F0FE;\n",
              "    border: none;\n",
              "    border-radius: 50%;\n",
              "    cursor: pointer;\n",
              "    display: none;\n",
              "    fill: #1967D2;\n",
              "    height: 32px;\n",
              "    padding: 0 0 0 0;\n",
              "    width: 32px;\n",
              "  }\n",
              "\n",
              "  .colab-df-quickchart:hover {\n",
              "    background-color: #E2EBFA;\n",
              "    box-shadow: 0px 1px 2px rgba(60, 64, 67, 0.3), 0px 1px 3px 1px rgba(60, 64, 67, 0.15);\n",
              "    fill: #174EA6;\n",
              "  }\n",
              "\n",
              "  [theme=dark] .colab-df-quickchart {\n",
              "    background-color: #3B4455;\n",
              "    fill: #D2E3FC;\n",
              "  }\n",
              "\n",
              "  [theme=dark] .colab-df-quickchart:hover {\n",
              "    background-color: #434B5C;\n",
              "    box-shadow: 0px 1px 3px 1px rgba(0, 0, 0, 0.15);\n",
              "    filter: drop-shadow(0px 1px 2px rgba(0, 0, 0, 0.3));\n",
              "    fill: #FFFFFF;\n",
              "  }\n",
              "</style>\n",
              "\n",
              "    <script>\n",
              "      async function quickchart(key) {\n",
              "        const containerElement = document.querySelector('#' + key);\n",
              "        const charts = await google.colab.kernel.invokeFunction(\n",
              "            'suggestCharts', [key], {});\n",
              "      }\n",
              "    </script>\n",
              "\n",
              "      <script>\n",
              "\n",
              "function displayQuickchartButton(domScope) {\n",
              "  let quickchartButtonEl =\n",
              "    domScope.querySelector('#df-4108597b-befa-4c04-a861-b81eb372b8c4 button.colab-df-quickchart');\n",
              "  quickchartButtonEl.style.display =\n",
              "    google.colab.kernel.accessAllowed ? 'block' : 'none';\n",
              "}\n",
              "\n",
              "        displayQuickchartButton(document);\n",
              "      </script>\n",
              "      <style>\n",
              "    .colab-df-container {\n",
              "      display:flex;\n",
              "      flex-wrap:wrap;\n",
              "      gap: 12px;\n",
              "    }\n",
              "\n",
              "    .colab-df-convert {\n",
              "      background-color: #E8F0FE;\n",
              "      border: none;\n",
              "      border-radius: 50%;\n",
              "      cursor: pointer;\n",
              "      display: none;\n",
              "      fill: #1967D2;\n",
              "      height: 32px;\n",
              "      padding: 0 0 0 0;\n",
              "      width: 32px;\n",
              "    }\n",
              "\n",
              "    .colab-df-convert:hover {\n",
              "      background-color: #E2EBFA;\n",
              "      box-shadow: 0px 1px 2px rgba(60, 64, 67, 0.3), 0px 1px 3px 1px rgba(60, 64, 67, 0.15);\n",
              "      fill: #174EA6;\n",
              "    }\n",
              "\n",
              "    [theme=dark] .colab-df-convert {\n",
              "      background-color: #3B4455;\n",
              "      fill: #D2E3FC;\n",
              "    }\n",
              "\n",
              "    [theme=dark] .colab-df-convert:hover {\n",
              "      background-color: #434B5C;\n",
              "      box-shadow: 0px 1px 3px 1px rgba(0, 0, 0, 0.15);\n",
              "      filter: drop-shadow(0px 1px 2px rgba(0, 0, 0, 0.3));\n",
              "      fill: #FFFFFF;\n",
              "    }\n",
              "  </style>\n",
              "\n",
              "      <script>\n",
              "        const buttonEl =\n",
              "          document.querySelector('#df-10f79231-79d1-4cd0-8e47-3b5d57fadc20 button.colab-df-convert');\n",
              "        buttonEl.style.display =\n",
              "          google.colab.kernel.accessAllowed ? 'block' : 'none';\n",
              "\n",
              "        async function convertToInteractive(key) {\n",
              "          const element = document.querySelector('#df-10f79231-79d1-4cd0-8e47-3b5d57fadc20');\n",
              "          const dataTable =\n",
              "            await google.colab.kernel.invokeFunction('convertToInteractive',\n",
              "                                                     [key], {});\n",
              "          if (!dataTable) return;\n",
              "\n",
              "          const docLinkHtml = 'Like what you see? Visit the ' +\n",
              "            '<a target=\"_blank\" href=https://colab.research.google.com/notebooks/data_table.ipynb>data table notebook</a>'\n",
              "            + ' to learn more about interactive tables.';\n",
              "          element.innerHTML = '';\n",
              "          dataTable['output_type'] = 'display_data';\n",
              "          await google.colab.output.renderOutput(dataTable, element);\n",
              "          const docLink = document.createElement('div');\n",
              "          docLink.innerHTML = docLinkHtml;\n",
              "          element.appendChild(docLink);\n",
              "        }\n",
              "      </script>\n",
              "    </div>\n",
              "  </div>\n"
            ]
          },
          "metadata": {},
          "execution_count": 11
        }
      ]
    },
    {
      "cell_type": "code",
      "source": [
        "# affichage\n",
        "fig = plt.figure(num=None, figsize=(12, 6), dpi=80)\n",
        "mask = np.triu(np.ones_like(lapage_df_b2c_age.corr(), dtype=bool))\n",
        "sns.heatmap(lapage_df_b2c_age.corr(), mask=mask, vmin=-1, vmax=1, annot=True, linewidths=2)\n",
        "plt.savefig(\"Partie_3  matrix Pearson\", bbox_inches='tight')\n",
        "plt.title(\" matrix Pearson\", fontsize = 15, fontweight='bold');"
      ],
      "metadata": {
        "colab": {
          "base_uri": "https://localhost:8080/",
          "height": 530
        },
        "id": "syFlnkEYE9a3",
        "outputId": "7f159eab-2c32-40f0-c755-1a91fa5bc8d1"
      },
      "execution_count": 12,
      "outputs": [
        {
          "output_type": "stream",
          "name": "stderr",
          "text": [
            "<ipython-input-12-a98c084db64d>:3: FutureWarning: The default value of numeric_only in DataFrame.corr is deprecated. In a future version, it will default to False. Select only valid columns or specify the value of numeric_only to silence this warning.\n",
            "  mask = np.triu(np.ones_like(lapage_df_b2c_age.corr(), dtype=bool))\n",
            "<ipython-input-12-a98c084db64d>:4: FutureWarning: The default value of numeric_only in DataFrame.corr is deprecated. In a future version, it will default to False. Select only valid columns or specify the value of numeric_only to silence this warning.\n",
            "  sns.heatmap(lapage_df_b2c_age.corr(), mask=mask, vmin=-1, vmax=1, annot=True, linewidths=2)\n"
          ]
        },
        {
          "output_type": "display_data",
          "data": {
            "text/plain": [
              "<Figure size 960x480 with 2 Axes>"
            ],
            "image/png": "[encoded data removed]"
          },
          "metadata": {}
        }
      ]
    },
    {
      "cell_type": "markdown",
      "source": [
        "Il semble y avoir une forte corrélation négative entre l'âge du client et son montant total d'achat, sa fréquence d'achat et son panier moyen respectivement\n",
        "\n",
        "**b. age du client vs frequence achat**\n"
      ],
      "metadata": {
        "id": "0qa8-Vh9GXvF"
      }
    },
    {
      "cell_type": "code",
      "source": [
        "#nuages de point\n",
        "fig = plt.figure(num=None, figsize=(12, 6), dpi=80)\n",
        "line_kws = {'color' : 'r',}\n",
        "sns.regplot(data=lapage_df_b2c_age[lapage_df_b2c_age[\"age\"] > 18], x= \"age\",y = \"purchase_frequency\", line_kws=line_kws)\n",
        "plt.title(\"Âge des clients par rapport à la fréquence d'achat\",fontsize = 12, fontweight='bold')\n",
        "#plt.savefig(\"Partie 3 Âge des clients par rapport à la fréquence d'achat\", bbox_inches='tight')\n",
        "plt.show()"
      ],
      "metadata": {
        "colab": {
          "base_uri": "https://localhost:8080/",
          "height": 452
        },
        "id": "dSDY9UGuF7pa",
        "outputId": "ff2db1d4-a295-4d66-978e-50883a2aa7fd"
      },
      "execution_count": 13,
      "outputs": [
        {
          "output_type": "display_data",
          "data": {
            "text/plain": [
              "<Figure size 960x480 with 1 Axes>"
            ],
            "image/png": "[encoded data removed]"
          },
          "metadata": {}
        }
      ]
    },
    {
      "cell_type": "markdown",
      "source": [
        "notes: :\n",
        "* D'un point de vue général, la fréquence des achats diminue avec l'âge\n",
        "\n",
        "## Tests de Shapiro-wilk (loi normale) et de Spearman\n",
        "Le test de Shapiro-Wilk peut être utilisé pour décider si un échantillon correspond ou non à une distribution normale, et il est couramment utilisé pour les petits échantillons.\n",
        "\n",
        "Situation : variable ordinale (âge) et variable quantitative (fréquence des achats)\n",
        "\n",
        "Question : La fréquence des achats suit-elle une loi normale ?\n",
        "\n",
        "Outil : test de shapiro-wilk"
      ],
      "metadata": {
        "id": "LOQZuuTCHNnV"
      }
    },
    {
      "cell_type": "code",
      "source": [
        "#test shapiro\n",
        "shapiro_test(lapage_df_b2c_age[\"purchase_frequency\"])\n",
        "shapiro_test(lapage_df_b2c_age[\"age\"])"
      ],
      "metadata": {
        "colab": {
          "base_uri": "https://localhost:8080/"
        },
        "id": "CzSosU9-F7rP",
        "outputId": "5022d308-d4f2-4a7d-f8dc-045f04185609"
      },
      "execution_count": 14,
      "outputs": [
        {
          "output_type": "stream",
          "name": "stdout",
          "text": [
            "==================================================================================================== \n",
            "\n",
            "Shapiro-Wilk test\n",
            "L'hypothèse nulle est rejetée \t ==> La variable ne suit pas une loi normale\n",
            "\n",
            "==================================================================================================== \n",
            "\n",
            "==================================================================================================== \n",
            "\n",
            "Shapiro-Wilk test\n",
            "L'hypothèse nulle est rejetée \t ==> La variable ne suit pas une loi normale\n",
            "\n",
            "==================================================================================================== \n",
            "\n"
          ]
        }
      ]
    },
    {
      "cell_type": "markdown",
      "source": [
        "notes :\n",
        "* La fréquence d'achat et l'âge des clients ne suivent pas une loi normale → Test de Spearman\n",
        "\n",
        "**La corrélation de Spearman est souvent utilisée pour évaluer les relations impliquant des variables ordinales.**"
      ],
      "metadata": {
        "id": "378v7g2EISb1"
      }
    },
    {
      "cell_type": "code",
      "source": [
        "#test spearman\n",
        "spearman_test(lapage_df_b2c_age[\"age\"],lapage_df_b2c_age[\"purchase_frequency\"])"
      ],
      "metadata": {
        "colab": {
          "base_uri": "https://localhost:8080/"
        },
        "id": "BbFPnvE0F7up",
        "outputId": "361ff393-5231-40f1-ca34-ce9da06b14a3"
      },
      "execution_count": 15,
      "outputs": [
        {
          "output_type": "stream",
          "name": "stdout",
          "text": [
            "==================================================================================================== \n",
            "\n",
            "Test d'Independence (Spearman's Test)\n",
            "\n",
            "Spearman coeff = -0.6737935748462065\n",
            "Spearman pvalue = 2.5520940213877932e-11\n",
            "\n",
            "Les variables présentent une corrélation significativement élévé négative\n"
          ]
        }
      ]
    },
    {
      "cell_type": "markdown",
      "source": [
        "notes :\n",
        "L'âge des clients et leur fréquence d'achat sont corrélés négativement, ce qui signifie ici : plus le client est âgé, moins il achète\n",
        "\n",
        "## **c. Âge des clients par rapport au montant total de l'achat**"
      ],
      "metadata": {
        "id": "g4Q2NJBeKKef"
      }
    },
    {
      "cell_type": "code",
      "source": [
        "#nuage de point\n",
        "fig = plt.figure(num=None, figsize=(12, 6), dpi=80)\n",
        "line_kws = {'color' : 'r',}\n",
        "sns.regplot(data=lapage_df_b2c_age[lapage_df_b2c_age[\"age\"] > 18], x= \"age\",y = \"total_purchase_amount\", line_kws=line_kws)\n",
        "plt.title(\"Âge des clients par rapport au montant total de l'achat\",fontsize = 12, fontweight='bold')\n",
        "plt.savefig(\"Part_3 Âge des clients par rapport au montant total de l'achat\", bbox_inches='tight')\n",
        "plt.show()"
      ],
      "metadata": {
        "colab": {
          "base_uri": "https://localhost:8080/",
          "height": 452
        },
        "id": "RCYXc9OiF7wp",
        "outputId": "82ceb028-4eb5-4d36-cf8e-3dc0894b5ce5"
      },
      "execution_count": 16,
      "outputs": [
        {
          "output_type": "display_data",
          "data": {
            "text/plain": [
              "<Figure size 960x480 with 1 Axes>"
            ],
            "image/png": "[encoded data removed]"
          },
          "metadata": {}
        }
      ]
    },
    {
      "cell_type": "markdown",
      "source": [
        "nb:\n",
        "* D'un point de vue général, le montant total d'achat diminue avec l'âge (même s'il est positif jusqu'à 40 ans)\n",
        "\n",
        "**Situation** : variable ordinale (âge) et variable quantitative (montant total d'achat)\n",
        "**Question** : Le montant total de l'achat suit-il une loi normale ?\n",
        "\n",
        "**Outil** : test de shapiro-wilk\n",
        "\n"
      ],
      "metadata": {
        "id": "roOsX9JQK0Fh"
      }
    },
    {
      "cell_type": "code",
      "source": [
        "#shapiro test\n",
        "shapiro_test(lapage_df_b2c_age[\"total_purchase_amount\"])"
      ],
      "metadata": {
        "colab": {
          "base_uri": "https://localhost:8080/"
        },
        "id": "pP961isuKvJk",
        "outputId": "3afb1378-0c2b-4106-e3b6-e03b33fc5b54"
      },
      "execution_count": 17,
      "outputs": [
        {
          "output_type": "stream",
          "name": "stdout",
          "text": [
            "==================================================================================================== \n",
            "\n",
            "Shapiro-Wilk test\n",
            "L'hypothèse nulle est rejetée \t ==> La variable ne suit pas une loi normale\n",
            "\n",
            "==================================================================================================== \n",
            "\n"
          ]
        }
      ]
    },
    {
      "cell_type": "markdown",
      "source": [
        "notes :\n",
        "\n",
        "Le montant total de l'achat ne suit pas une loi normale → Test de Spearman"
      ],
      "metadata": {
        "id": "DfpTJIcALsSD"
      }
    },
    {
      "cell_type": "code",
      "source": [
        "#spearman test\n",
        "spearman_test(lapage_df_b2c_age[\"age\"],lapage_df_b2c_age[\"total_purchase_amount\"])"
      ],
      "metadata": {
        "colab": {
          "base_uri": "https://localhost:8080/"
        },
        "id": "ngedNKWYKvmx",
        "outputId": "114084eb-1196-4cd3-9dc0-625db47be2b9"
      },
      "execution_count": 18,
      "outputs": [
        {
          "output_type": "stream",
          "name": "stdout",
          "text": [
            "==================================================================================================== \n",
            "\n",
            "Test d'Independence (Spearman's Test)\n",
            "\n",
            "Spearman coeff = -0.8740396445659603\n",
            "Spearman pvalue = 6.668764227215193e-25\n",
            "\n",
            "Les variables présentent une corrélation significativement tres élévé négative\n"
          ]
        }
      ]
    },
    {
      "cell_type": "markdown",
      "source": [
        "note :\n",
        "* L'âge des clients et leur montant total d'achat sont très négativement corrélés, ce qui signifie ici : plus le client est âgé, moins il achète\n",
        "\n",
        "## **d. Age des clients vs panier moyen**\n"
      ],
      "metadata": {
        "id": "mUgAsLJhMFKE"
      }
    },
    {
      "cell_type": "code",
      "source": [
        "#nuage de point\n",
        "fig = plt.figure(num=None, figsize=(12, 6), dpi=80)\n",
        "lapage_df_b2c_age[\"clusters\"]= pd.cut(lapage_df_b2c_age[\"age\"], bins=[15,30,50,100], labels=[\"< 30 yo\",\"30 to 50 yo\",\"> 50 yo\"])\n",
        "sns.scatterplot(data=lapage_df_b2c_age, x=\"age\", y=\"average_basket\", hue=\"clusters\")\n",
        "plt.title(\"Âge des clients vs panier moyen\",fontsize = 12, fontweight='bold');"
      ],
      "metadata": {
        "colab": {
          "base_uri": "https://localhost:8080/",
          "height": 452
        },
        "id": "u4bRJyswL7cA",
        "outputId": "e22aebac-15d8-4d4b-acac-9bad1848f86c"
      },
      "execution_count": 19,
      "outputs": [
        {
          "output_type": "display_data",
          "data": {
            "text/plain": [
              "<Figure size 960x480 with 1 Axes>"
            ],
            "image/png": "[encoded data removed]"
          },
          "metadata": {}
        }
      ]
    },
    {
      "cell_type": "markdown",
      "source": [
        "notes :\n",
        "\n",
        "Pour les clients...\n",
        "* ... moins de 30 ans : panier moyen élevé (plus de 35 euros)\n",
        "* ... entre 30 et 50 ans : panier moyen bas (moins de 15 euros)\n",
        "* ... plus de 50 ans : panier moyen entre 15 et 20 euros\n",
        "\n",
        "**Situation** : variable ordinale (âge) et variable quantitative (panier moyen)\n",
        "\n",
        "**Question** : Le panier moyen suit-il une loi normale ?\n",
        "\n",
        "**Outil** : test de shapiro-wilk"
      ],
      "metadata": {
        "id": "6klvTypdMvaM"
      }
    },
    {
      "cell_type": "code",
      "source": [
        "#shapiro test\n",
        "shapiro_test(lapage_df_b2c_age[\"average_basket\"])"
      ],
      "metadata": {
        "colab": {
          "base_uri": "https://localhost:8080/"
        },
        "id": "zGoDP9gBNRyf",
        "outputId": "6bcb2d82-db18-4019-98f7-ef1dec27f2bb"
      },
      "execution_count": 20,
      "outputs": [
        {
          "output_type": "stream",
          "name": "stdout",
          "text": [
            "==================================================================================================== \n",
            "\n",
            "Shapiro-Wilk test\n",
            "L'hypothèse nulle est rejetée \t ==> La variable ne suit pas une loi normale\n",
            "\n",
            "==================================================================================================== \n",
            "\n"
          ]
        }
      ]
    },
    {
      "cell_type": "markdown",
      "source": [
        "**Le test de Kolmogorov-Smirnov**\n",
        "La statistique de Kolmogorov-Smirnov quantifie une distance entre les fonctions de distribution empiriques de deux échantillons.\n",
        "\n",
        "**Question** : L'âge des clients et la fréquence d'achat ont-ils la même distribution ?\n",
        "\n",
        "**Outil** : test de Kolmogorov-Smirnov"
      ],
      "metadata": {
        "id": "2slrzh-HNdMO"
      }
    },
    {
      "cell_type": "code",
      "source": [
        "#K-S test\n",
        "from scipy.stats import ks_2samp\n",
        "ks_2samp(lapage_df_b2c_age[\"age\"], lapage_df_b2c_age[\"average_basket\"])"
      ],
      "metadata": {
        "colab": {
          "base_uri": "https://localhost:8080/"
        },
        "id": "6hQ_vvUWNR0k",
        "outputId": "ca55027a-2540-440b-df31-c5b8baeabc1a"
      },
      "execution_count": 21,
      "outputs": [
        {
          "output_type": "execute_result",
          "data": {
            "text/plain": [
              "KstestResult(statistic=0.8289473684210527, pvalue=1.1874582768381313e-26, statistic_location=17.9, statistic_sign=-1)"
            ]
          },
          "metadata": {},
          "execution_count": 21
        }
      ]
    },
    {
      "cell_type": "markdown",
      "source": [
        "nb :\n",
        "* D'après la sortie, nous pouvons voir que la statistique de test est 0,8289473684210527 et la valeur p correspondante est 1,1874582768381313e-26. Puisque la valeur de p est inférieure à 0,05, nous rejetons l'hypothèse nulle.\n",
        "* Nous avons suffisamment de preuves pour dire que les deux ensembles de données d'échantillon ne proviennent pas de la même distribution.\n",
        "Avis :\n",
        "* **rmq**\n",
        "\n",
        "Le panier moyen ne suit pas une loi normale → Test de Spearman"
      ],
      "metadata": {
        "id": "nm_zYb0lOjCU"
      }
    },
    {
      "cell_type": "code",
      "source": [
        "#spearman test\n",
        "spearman_test(lapage_df_b2c_age[\"age\"],lapage_df_b2c_age[\"average_basket\"])"
      ],
      "metadata": {
        "id": "JziqX9UZNR4e",
        "colab": {
          "base_uri": "https://localhost:8080/"
        },
        "outputId": "406a2fbe-87d5-4282-bccb-4bf270f941b7"
      },
      "execution_count": 22,
      "outputs": [
        {
          "output_type": "stream",
          "name": "stdout",
          "text": [
            "==================================================================================================== \n",
            "\n",
            "Test d'Independence (Spearman's Test)\n",
            "\n",
            "Spearman coeff = -0.08771678004687013\n",
            "Spearman pvalue = 0.4511629035932885\n",
            "\n",
            "Les variables ont une faible corrélation négative significative \n"
          ]
        }
      ]
    },
    {
      "cell_type": "markdown",
      "source": [
        "Nb :\n",
        "La relation entre l'âge des clients et le panier moyen n'est pas significative\n",
        "\n",
        "## **e. Âge des clients vs catégorie de livres achetés**"
      ],
      "metadata": {
        "id": "qoUW9lqVP7w1"
      }
    },
    {
      "cell_type": "code",
      "source": [
        "#box plot\n",
        "plt.figure(figsize=(9,4))\n",
        "palette = ['g','b','r']\n",
        "meanprops={ \"marker\" : \"s\", \"markerfacecolor\" : \"w\"}\n",
        "sns.boxplot(data=lapage_df_b2c, y='categ', x='age', orient='h', showfliers=False, showmeans=True, palette=palette, meanprops=meanprops)\n",
        "plt.title(\"Âge des clients vs catégorie de livres achetés\")\n",
        "plt.show()"
      ],
      "metadata": {
        "colab": {
          "base_uri": "https://localhost:8080/",
          "height": 413
        },
        "id": "iDbXb6biP1IH",
        "outputId": "9fca955b-1c53-4e79-b292-bf124adf4cba"
      },
      "execution_count": 23,
      "outputs": [
        {
          "output_type": "display_data",
          "data": {
            "text/plain": [
              "<Figure size 900x400 with 1 Axes>"
            ],
            "image/png": "[encoded data removed]"
          },
          "metadata": {}
        }
      ]
    },
    {
      "cell_type": "markdown",
      "source": [
        "notes:\n",
        "\n",
        "* Catégorie 0 : Clients âgés de 19 à 67 ans (avec une moyenne d'âge approximative de 45 ans)\n",
        "\n",
        "* Catégorie 1 : Tout le monde (avec une moyenne d'âge approximative de 48 ans)\n",
        "\n",
        "* Catégorie 2 : Clients âgés de 19 à 40 ans (avec une moyenne d'âge approximative de 27 ans)\n",
        "\n",
        "**Situation** : variable qualitative (âge) vs variable qualitative (catégorie)\n",
        "**Question** : La catégorie des livres achetés a-t-elle une dépendance à l'âge des clients ?\n",
        "**Outils** : test du chi carré"
      ],
      "metadata": {
        "id": "ngBDJxBFQdyF"
      }
    },
    {
      "cell_type": "code",
      "source": [
        "#chi-square independence test\n",
        "print(\"=\"*100,\"\\n\")\n",
        "print(\"Test d'indépendance entre l'âge et la catégorie (test du chi carré)\")\n",
        "print(\"\\t Hypothèse nulle H0 : \\t \\t La préférence pour une catégorie de livre ne dépend pas de l'âge du client\")\n",
        "print(\"\\t Hypothèse alternative H1 : \\t La préférence pour une catégorie dépend de l'âge du client\")\n",
        "print('')\n",
        "\n",
        "#chi-square and p-value calculation\n",
        "X2, Y2 = \"age\", \"categ\"\n",
        "conti2 = lapage_df_b2c[[X2, Y2]].pivot_table(index=X2, columns=Y2, aggfunc=len).fillna(0).copy()\n",
        "st_chi2, st_p, st_dof, st_exp = st.chi2_contingency(conti2)\n",
        "print(\"Le khi-deux est de : \",st_chi2,\"\\n\")\n",
        "print(\"La p-value est de :\",st_p,\"\\n\")\n",
        "\n",
        "if st_p < 0.05:\n",
        "    print(\"L'hypothèse nulle est rejetée \\t ==> H1 : La préférence pour une catégorie dépend de l'âge du client\")\n",
        "else:\n",
        "    print(\"On ne peut pas rejeter l'hypothèse nulle H0 (La préférence pour une catégorie de livre ne dépend pas de l'âge du client\")"
      ],
      "metadata": {
        "colab": {
          "base_uri": "https://localhost:8080/"
        },
        "id": "U9X1fh3kQy6V",
        "outputId": "3cee6241-05b6-4bfa-d4fa-5063e6708b9f"
      },
      "execution_count": 24,
      "outputs": [
        {
          "output_type": "stream",
          "name": "stdout",
          "text": [
            "==================================================================================================== \n",
            "\n",
            "Test d'indépendance entre l'âge et la catégorie (test du chi carré)\n",
            "\t Hypothèse nulle H0 : \t \t La préférence pour une catégorie de livre ne dépend pas de l'âge du client\n",
            "\t Hypothèse alternative H1 : \t La préférence pour une catégorie dépend de l'âge du client\n",
            "\n",
            "Le khi-deux est de :  265788.8875687019 \n",
            "\n",
            "La p-value est de : 0.0 \n",
            "\n",
            "L'hypothèse nulle est rejetée \t ==> H1 : La préférence pour une catégorie dépend de l'âge du client\n"
          ]
        }
      ]
    },
    {
      "cell_type": "code",
      "source": [
        "\n",
        "from scipy import stats\n",
        "\n",
        "\n",
        "data=lapage_df_b2c #, y='categ', x='age'\n",
        "\n",
        "#  test ANOVA\n",
        "groups = []\n",
        "for i in range(3):\n",
        "    group = data[data['categ'] == i]['age']\n",
        "    groups.append(group)\n",
        "\n",
        "_, p_value = stats.f_oneway(*groups)\n",
        "print(\"P-Value du test ANOVA  est:\", p_value)\n"
      ],
      "metadata": {
        "colab": {
          "base_uri": "https://localhost:8080/"
        },
        "id": "b5oYjzIuPcIW",
        "outputId": "f65f2348-87d2-4026-a2ae-7c955f80de3d"
      },
      "execution_count": 27,
      "outputs": [
        {
          "output_type": "stream",
          "name": "stdout",
          "text": [
            "P-Value du test ANOVA  est: 0.0\n"
          ]
        }
      ]
    },
    {
      "cell_type": "markdown",
      "source": [
        "# notes:\n",
        "\n",
        "Dans le contexte de l'ANOVA entre une variable quantitative (âge) et une variable qualitative (catégorie), une p-value de 0,0 suggère qu'il existe des différences significatives dans les moyennes des âges entre les différentes catégories.\n",
        "\n",
        "Cela implique qu'il ya une association significative entre l'age des clients et la categorie de livre achété.\n",
        "\n",
        "Lorsque la p-value est très petite, cela renforce la confiance dans le rejet de l'hypothèse nulle, qui stipule qu'il n'y a pas de différences significatives entre les 2 variables. Dans ce cas, on peut conclure qu'il y a une association statistiquement significative entre l'âge et la catégorie de livres achétés."
      ],
      "metadata": {
        "id": "CRT32KBBRX5j"
      }
    },
    {
      "cell_type": "markdown",
      "source": [
        "NOTES :\n",
        "* Pour α = 5%, la catégorie de livres achetés dépend de l'âge des clients\n",
        "\n",
        "\n",
        "## **Conclusion (partie 3)**\n",
        "\n",
        "**Relation entre le sexe du client et la catégorie d'achat :**\n",
        "\n",
        "* Les femmes comme les hommes préfèrent respectivement les catégories 0, 1 et 2 enfin\n",
        "* Les femmes consomment un peu plus que les hommes sur les 3 catégories de produits\n",
        "* Pour α = 5%, le sexe des clients dépend de la catégorie de livres achetés\n",
        "\n",
        "**Relation entre l'âge des clients et la fréquence d'achat :**\n",
        "\n",
        "* D'un point de vue général, la fréquence des achats diminue avec l'âge\n",
        "* La fréquence d'achat et l'âge des clients ne suivent pas une loi normale\n",
        "* L'âge des clients et leur fréquence d'achat sont négativement corrélés, ce qui signifie ici : plus le client est âgé, moins il achète\n",
        "\n",
        "**Relation entre l'âge des clients et le montant total des achats :**\n",
        "\n",
        "* D'un point de vue général, le montant total d'achat diminue avec l'âge (même s'il est positif jusqu'à 40 ans)\n",
        "* Le montant total de l'achat ne suit pas une loi normale\n",
        "* L'âge des clients et leur montant total d'achat sont très négativement corrélés, ce qui signifie ici : plus le client est âgé, moins il achète\n",
        "\n",
        "**Relation entre l'âge des clients et le panier moyen :**\n",
        "\n",
        "* Nous avons suffisamment de preuves pour dire que les deux ensembles de données d'échantillon ne proviennent pas de la même distribution.\n",
        "* Le panier moyen ne suit pas une loi normale\n",
        "* La relation entre l'âge des clients et le panier moyen n'est pas significative\n",
        "\n",
        "**Relation âge des clients vs catégorie de livres achetés :**\n",
        "\n",
        "* Pour α = 5%, la catégorie de livres achetés dépend de l'âge des clients"
      ],
      "metadata": {
        "id": "OPpvHYv1RiJ2"
      }
    },
    {
      "cell_type": "code",
      "source": [],
      "metadata": {
        "id": "_xvpoXnoQy82"
      },
      "execution_count": 24,
      "outputs": []
    },
    {
      "cell_type": "code",
      "source": [],
      "metadata": {
        "id": "BtREhBzPQzAG"
      },
      "execution_count": 24,
      "outputs": []
    },
    {
      "cell_type": "code",
      "source": [],
      "metadata": {
        "id": "3BxjphuLQzCd"
      },
      "execution_count": 24,
      "outputs": []
    }
  ]
}